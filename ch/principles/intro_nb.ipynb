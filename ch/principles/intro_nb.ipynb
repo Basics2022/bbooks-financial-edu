{
 "cells": [
  {
   "cell_type": "markdown",
   "id": "3fc8b979-b6c0-4a2d-baf1-551ead129f89",
   "metadata": {},
   "source": [
    "(fin-edu:principles:intro-nb)=\n",
    "# Introduction to principles of investing"
   ]
  },
  {
   "cell_type": "markdown",
   "id": "db24d980-f701-4845-8c9f-e1afc06d67a1",
   "metadata": {},
   "source": [
    "Investing is a core part of personal financial management—it's how individuals navigate uncertainty to meet their financial goals under real-world constraints. The most basic objective is to preserve the real value of wealth, protecting it against [inflation](fin-edu:inflation); more ambitious goals include growing capital to fund retirement, education, or other life plans.\n",
    "\n",
    "Sound investing requires understanding [return](fin-edu:principles:return) and [risk](fin-edu:principles:risk) of available assets, and the fundamental [R/R trade off](fin-edu:principles:rr). It also demands attention to **constraints** such as *liquidity* needs, *time horizon*, *acceptable volatility*, and *risk tolerance*. One of the main principle is [diversification](fin-edu:principles:diversification) - which can reduce risk and, in some cases, enhance returns.\n",
    "\n",
    "This section introduces the core concepts needed to build a robust investment strategy: how [compound returns](fin-edu:principles:time:compunding) shape long-term growth, how [volatility drag](fin-edu:principles:time:volatility-drag) reduces expected performance, and how a clear, principle-based approaches - like [rebalancing](fin-edu:principles:rebalancing) - may improve performance under uncertainties.\n",
    "\n",
    "Given its set of constraints, an informed and intelligent agent, see [Portfolio construction](fin-edu:principles:asset-allocation) would take actions that try to maximise return for a given accepted risk, or minimize risk for a given desired return: this behavior can be summarized in choosing actions on a *Pareto front*, i.e. within the set of all Pareto efficient solutions.\n",
    "\n",
    "```{dropdown} Sections\n",
    "\n",
    "| **Section**                                                          | **Key Concepts**                    | \n",
    "| -------------------------------------------------------------------- | ----------------------------------- | \n",
    "| **1. [Return](fin-edu:principles:return)**                           |                                     | \n",
    "| **2. [Risk](fin-edu:principles:risk)**                               |                                     | \n",
    "| **3. [Risk-Return Trade-Off](fin-edu:principles:rr)**                |                                     | \n",
    "| **4. [Diversification](fin-edu:principles:diversification)**         |                                     | \n",
    "| **5. [Portfolio Construction](fin-edu:principles:asset-allocation)** |                                     | \n",
    "| **6. [Time and Compounding](fin-edu:principles:time)**               | Compounding and volatility drag     | \n",
    "| **7. [Disciplined Investing](fin-edu:principles:investing)**         | PIC/PAC, rebalancing,...            |\n",
    "```"
   ]
  },
  {
   "cell_type": "markdown",
   "id": "7b28b009-70c4-4930-b1ac-f39db3e23e62",
   "metadata": {},
   "source": [
    "(fin-edu:principles:return)=\n",
    "## Return\n",
    "\n",
    "Return is the reward for investing. It can come from **capital gain** (price increase of assets bought), or **periodic cashflows**, like interest (from bonds), or dividends (from stocks). Some assets produce predictable return (either nominal, or real), other assets have less predictable returns. Any asset has some level of uncertainty, or [risk](fin-edu:principles:rr)[^risk-rare-events]. \n",
    "\n",
    "[^risk-rare-events]: Even the most safe assets could undergo some (really) **rare**, but usually (really) **catastrophic events**. Just as an example, it's hard to imagine what could happen even to bonds issued by the most (perceived and priced) safe government or institution, in case of its participation in a war.\n",
    "\n",
    "Most returns are quoted on a **per-period** basis - usually annually - and expressed as the percentage of the reward over the initial amount of the investment.\n",
    "\n",
    "```{prf:example} 1-period returns\n",
    "An amount of $1000$€ in saving account returning $2\\%$ per year, returns $0.02 \\cdot 1000\\text{€} = 20$€ at the end of the year, so that the amount in the saving account becomes $1000\\text{€} \\cdot 1.02 = 1020\\text{€}$. Usually some [costs](fin-edu:principles:return:costs) must be also considered.\n",
    "...\n",
    "\n",
    "```\n",
    "\n",
    "```{prf:example} 1-period return of equity investment\n",
    ":class: dropdown\n",
    "\n",
    "...given costs, dividends, taxes, buying and selling prices, evaluate return...\n",
    "\n",
    "```\n",
    "\n",
    "For a many-year investment, single-period returns [**compound**](fin-edu:principles:time:compunding) over time.\n",
    "\n"
   ]
  },
  {
   "cell_type": "markdown",
   "id": "4f38cf2a-caf6-4608-ba02-b431cabfd312",
   "metadata": {},
   "source": [
    "(fin-edu:principles:return:costs)=\n",
    "### Costs\n",
    "\n",
    "While return are uncertain, at least to a certain level, usually costs - fees, expenses, taxes - or part of them, are certain. With equal other conditions, the intelligent investor should reduce costs (known), as higher costs reduce returns w/o changing the level of risk.\n"
   ]
  },
  {
   "cell_type": "markdown",
   "id": "20808254-8082-4bf4-a140-468023eb2876",
   "metadata": {},
   "source": [
    "(fin-edu:principles:risk)=\n",
    "## Risk\n",
    "\n",
    "Risk measures uncertainty and its effects, combining probability of events and consequences of specific events. *All the assets have some systematic and some specific risks*\n",
    ".\n",
    "<!-- Some risks are systematic (like market crashes); others are specific (like a company going bankrupt).-->\n",
    "Key measures (*should give info about magnitude, frequency/probability, and duration*) include:\n",
    "- standard deviation or **volatility**: how much returns may deviate from their expected value),\n",
    "- max loss (usually 100% can't be neglected for catastrophic although rare events), value at risk (VaR, max loss with a given probability), drawdown (maximum peak-to-trough loss)\n",
    "- time-to-recover (time to recover drawdowns, in a temporal perspective)\n",
    "\n",
    "Usually, risk metrics measure uncertainty, without discerning from positive and negative events: these metrics perceive a higher-than-expected return as a risk as well. Some metrics instead, see *Sortino ratio* in [risk-return](fin-edu:principles:rr) section, aims at quantifying only negative events as risk.\n",
    "\n",
    "```{prf:example} Value at Risk\n",
    "\n",
    "A 1-year 5% VaR of $1000\\text{€}$ of an investment it means that there's 5% probability of losing at least $1000\\text{€}$ in a year with that investment.\n",
    "\n",
    "```"
   ]
  },
  {
   "cell_type": "markdown",
   "id": "781af4ec-c6ea-4a57-b645-d9d9765a513c",
   "metadata": {},
   "source": [
    "(fin-edu:principles:rr)=\n",
    "## Risk-Return Trade Off\n",
    "\n",
    "```{admonition} \"There's no free lunch\"\n",
    ":class: tip\n",
    "\n",
    "Higher expected returns usually come with higher risk.\n",
    "```\n",
    "\n",
    "```{admonition} ...but high risk doesn't imply high expected return\n",
    ":class: warning\n",
    "\n",
    "Very stupid actions usually implies poor return with high risk. Just as an example, playing Russian roulette for fun implies an expected return worse than an alternative \"do-nothing and have an ice-cream instead\" scenario (at least, if your goal is not to kill yourself, and your return function does not positively weight this outcome) with higher uncertainty on the final status of your health.\n",
    "\n",
    "Sometimes the same could happen if one plays doing trading with some random meme-stocks or shit-coins.\n",
    "\n",
    "```\n",
    "\n",
    "\n",
    "**Risk-adjusted return** provides an indication of the expected return per unit of risk. Common metrics are:\n",
    "- **Sharpe ratio**, comparing excess return and volatility compared with a \"risk-free\" asset - or a benchmark\n",
    "\n",
    "  $$S := \\dfrac{\\mathbb{E}[R-R_b]}{\\sqrt{\\text{var}[R-R_b]}}$$\n",
    "\n",
    "- **Sortino ratio**\n",
    "  \n",
    "  $$So := \\dfrac{\\mathbb{E}[R] - T}{\\text{DR}} \\ ,$$\n",
    "\n",
    "  with $T$ target return, and $\\text{DR}$ the downside deviation, i.e. the deviation w.r.t the target return evaluated only for returns $r$ lower than the target return $T$\n",
    "\n",
    "  $$\\text{DR}^2 = \\int_{r=-\\infty}^{T} (T-r)^2 \\, f(r) \\, dr \\ ,$$\n",
    "\n",
    "  being $f(r)$ the probability density function of the (continuous) random variable $R$ representing return\n",
    "\n",
    "\n",
    "```{prf:example}\n",
    "\n",
    "```"
   ]
  },
  {
   "cell_type": "markdown",
   "id": "b6f437c1-205d-46f7-874f-2869f291b6a2",
   "metadata": {},
   "source": [
    "(fin-edu:principles:diversification)=\n",
    "## Diversification\n",
    "\n",
    "Diversification spreads risk across different investments so no single event can ruin your portfolio. Diversification works well with assets that are not - or at least they're loosely - correlated: in this case, diversification could increase return per unit of risk."
   ]
  },
  {
   "cell_type": "markdown",
   "id": "d0acb86a-c051-4383-a7d8-d8f43d9308ce",
   "metadata": {},
   "source": [
    "(fin-edu:principles:asset-allocation)=\n",
    "## Portfolio Construction\n"
   ]
  },
  {
   "cell_type": "markdown",
   "id": "a0092f92-a0e4-4772-8544-a952cee9241b",
   "metadata": {},
   "source": [
    "(fin-edu:principles:time)=\n",
    "## Time\n",
    "\n",
    "(fin-edu:principles:time:compunding)=\n",
    "### Compound Return\n",
    "\n",
    "(fin-edu:principles:time:volatility-drag)=\n",
    "#### Volatility Drag\n",
    "\n",
    "**todo**\n",
    "- *\"Time and risk?\" Listen to The Logic of Risk*\n"
   ]
  },
  {
   "cell_type": "markdown",
   "id": "a4a3fad4-566f-4cb3-9c5a-478046b9307b",
   "metadata": {},
   "source": [
    "(fin-edu:principles:investing)=\n",
    "## Disciplined Investing\n",
    "\n",
    "(fin-edu:principles:rebalancing)=\n",
    "### Rebalancing\n",
    "\n",
    "[Colab Notebook, rebalancing.ipynb](https://colab.research.google.com/drive/1Mi3_9T7XN7xUl9XNfsdkMfqQTqRFzG8L?authuser=1#scrollTo=QUq8nMHq3bb5)\n",
    "\n",
    "(fin-edu:principles:rebalancing:premium)=\n",
    "#### Rebalancing premium\n"
   ]
  }
 ],
 "metadata": {
  "kernelspec": {
   "display_name": "Python 3 (ipykernel)",
   "language": "python",
   "name": "python3"
  },
  "language_info": {
   "codemirror_mode": {
    "name": "ipython",
    "version": 3
   },
   "file_extension": ".py",
   "mimetype": "text/x-python",
   "name": "python",
   "nbconvert_exporter": "python",
   "pygments_lexer": "ipython3",
   "version": "3.8.10"
  }
 },
 "nbformat": 4,
 "nbformat_minor": 5
}
