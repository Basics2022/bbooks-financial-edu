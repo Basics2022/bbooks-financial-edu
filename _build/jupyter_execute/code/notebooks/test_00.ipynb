{
 "cells": [
  {
   "cell_type": "markdown",
   "metadata": {
    "id": "9AcyyQdSnYYr"
   },
   "source": [
    "# $\\texttt{test_00.ipynb}$\n",
    "\n",
    "First test of a notebook developed using Colab from Google drive and pushed to the Github repo, and using functions from util $\\texttt{.py}$ files\n",
    "\n",
    "\n",
    "Notebooks are stored in $\\texttt{code/notebooks}$, util files in $\\texttt{code/utils}$"
   ]
  },
  {
   "cell_type": "code",
   "execution_count": 1,
   "metadata": {
    "colab": {
     "base_uri": "https://localhost:8080/"
    },
    "executionInfo": {
     "elapsed": 1907,
     "status": "ok",
     "timestamp": 1751017358204,
     "user": {
      "displayName": "Davide Montagnani",
      "userId": "17667126089165260205"
     },
     "user_tz": -120
    },
    "id": "bpUXggftv2R2",
    "outputId": "d5c49c65-ba6a-4835-8d45-e7af4b845130"
   },
   "outputs": [
    {
     "ename": "SyntaxError",
     "evalue": "invalid syntax (2189505421.py, line 7)",
     "output_type": "error",
     "traceback": [
      "\u001b[0;36m  Cell \u001b[0;32mIn[1], line 7\u001b[0;36m\u001b[0m\n\u001b[0;31m    import\u001b[0m\n\u001b[0m          ^\u001b[0m\n\u001b[0;31mSyntaxError\u001b[0m\u001b[0;31m:\u001b[0m invalid syntax\n"
     ]
    }
   ],
   "source": [
    "#\n",
    "# Google Colab setup (only needed when running in Colab)\n",
    "try:\n",
    "    import google.colab\n",
    "    from google.colab import drive\n",
    "\n",
    "    import\n",
    "    drive.mount('/content/drive')\n",
    "\n",
    "    # Change to project folder on Drive (not the best for safety, better to import from .json file)\n",
    "    %cd /content/drive/MyDrive/basics-books/repos/financial-edu/bbooks-financial-edu/code/notebooks\n",
    "    %pwd\n",
    "    %ls ..\n",
    "except ImportError:\n",
    "    print(\"Not running in Colab — skipping Drive mount.\")\n",
    "\n",
    "import sys\n",
    "\n",
    "sys.path.append('../utils')"
   ]
  },
  {
   "cell_type": "code",
   "execution_count": null,
   "metadata": {
    "id": "zqxrYZVRnUFN"
   },
   "outputs": [],
   "source": [
    "import numpy as np\n",
    "from my_utils import utils_hello_world"
   ]
  },
  {
   "cell_type": "code",
   "execution_count": null,
   "metadata": {
    "colab": {
     "base_uri": "https://localhost:8080/"
    },
    "executionInfo": {
     "elapsed": 20,
     "status": "ok",
     "timestamp": 1751017695810,
     "user": {
      "displayName": "Davide Montagnani",
      "userId": "17667126089165260205"
     },
     "user_tz": -120
    },
    "id": "tITUSTxuvMQS",
    "outputId": "329a22c7-6dce-4cf1-f13f-465bb63a590f"
   },
   "outputs": [
    {
     "name": "stdout",
     "output_type": "stream",
     "text": [
      "You have a msg rom my_utils.py/utils_hello_world(msg)\n",
      "msg:\n",
      "Hello Son of a Bitch!\n"
     ]
    }
   ],
   "source": [
    "utils_hello_world(msg=\"Hello Son of a Bitch!\")"
   ]
  },
  {
   "cell_type": "code",
   "execution_count": null,
   "metadata": {
    "id": "dN8iO10lyakj"
   },
   "outputs": [],
   "source": []
  }
 ],
 "metadata": {
  "colab": {
   "authorship_tag": "ABX9TyMhRBpFFF4w6dLUGUbamZJz",
   "provenance": []
  },
  "kernelspec": {
   "display_name": "Python 3",
   "name": "python3"
  },
  "language_info": {
   "codemirror_mode": {
    "name": "ipython",
    "version": 3
   },
   "file_extension": ".py",
   "mimetype": "text/x-python",
   "name": "python",
   "nbconvert_exporter": "python",
   "pygments_lexer": "ipython3",
   "version": "3.8.10"
  }
 },
 "nbformat": 4,
 "nbformat_minor": 0
}