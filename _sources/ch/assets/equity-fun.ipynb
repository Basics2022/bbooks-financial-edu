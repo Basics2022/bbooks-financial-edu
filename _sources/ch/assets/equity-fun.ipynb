{
 "cells": [
  {
   "cell_type": "markdown",
   "id": "502d6a43-03e6-4b3f-95a0-20a1fb468425",
   "metadata": {},
   "source": [
    "(financial-edu:equity:fun)=\n",
    "# Correlations, plots and fun facts about equity investing\n",
    "\n",
    "\n",
    "\n"
   ]
  }
 ],
 "metadata": {
  "kernelspec": {
   "display_name": "Python 3 (ipykernel)",
   "language": "python",
   "name": "python3"
  },
  "language_info": {
   "codemirror_mode": {
    "name": "ipython",
    "version": 3
   },
   "file_extension": ".py",
   "mimetype": "text/x-python",
   "name": "python",
   "nbconvert_exporter": "python",
   "pygments_lexer": "ipython3",
   "version": "3.8.10"
  }
 },
 "nbformat": 4,
 "nbformat_minor": 5
}
